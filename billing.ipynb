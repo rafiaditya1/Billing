{
 "cells": [
  {
   "cell_type": "code",
   "execution_count": 72,
   "metadata": {},
   "outputs": [
    {
     "name": "stdout",
     "output_type": "stream",
     "text": [
      "<class 'str'>\n"
     ]
    }
   ],
   "source": [
    "from tkinter import *\n",
    "\n",
    "window=Tk()\n",
    "window.geometry(\"900x500\")\n",
    "\n",
    "def hitung():\n",
    "    AyamGeprek = e1.get()\n",
    "    AyamTeriyaki = e2.get()\n",
    "    AyamKatsu = e3.get()\n",
    "    AyamSpicy = e4.get()\n",
    "    print(type(AyamSpicy))\n",
    "    \n",
    "    total = ((int(AyamGeprek)*15000)+int(AyamTeriyaki)*20000+int(AyamKatsu)*20000+int(AyamSpicy)*25000)\n",
    "    label1 = Label(window,text=total,font=\"calibri 18 bold\")\n",
    "    label1.place(x=200,y=360)\n",
    "\n",
    "#Header\n",
    "label6 = Label(window,text=\"Warung Mahasiswa\",font=\"calibri 30 bold\")\n",
    "label6.place(x=450,y=20,anchor=\"center\")\n",
    "\n",
    "#Menu\n",
    "label1 = Label(window,text=\"MENU\",font=\"calibri 28 bold\")\n",
    "label1.place(x=680,y=70)\n",
    "\n",
    "label2 = Label(window,text=\"Ayam Geprek     Rp 15,000\",font=\"calibri 18\")\n",
    "label2.place(x=600,y=120)\n",
    "\n",
    "label3 = Label(window,text=\"Ayam Teriyaki   Rp 20,000\",font=\"calibri 18\")\n",
    "label3.place(x=600,y=150)\n",
    "\n",
    "label4 = Label(window,text=\"Ayam Katsu      Rp 20,000\",font=\"calibri 18\")\n",
    "label4.place(x=600,y=180)\n",
    "\n",
    "label5 = Label(window,text=\"Ayam Spicy      Rp 25,000\",font=\"calibri 18\")\n",
    "label5.place(x=600,y=210)\n",
    "\n",
    "#Biliing\n",
    "label7 = Label(window,text=\"Silahkan pilih item\",font=\"calibri 20 bold\")\n",
    "label7.place(x=150,y=70)\n",
    "\n",
    "label7 = Label(window,text=\"Ayam Geprek\",font=\"calibri 18\")\n",
    "label7.place(x=20,y=120)\n",
    "e1 = Entry(window)\n",
    "e1.place(x=20,y=150)\n",
    "\n",
    "label8 = Label(window,text=\"Ayam Teriyaki\",font=\"calibri 18\")\n",
    "label8.place(x=280,y=120)\n",
    "e2 = Entry(window)\n",
    "e2.place(x=280,y=150)\n",
    "\n",
    "label9 = Label(window,text=\"Ayam Katsu\",font=\"calibri 18\")\n",
    "label9.place(x=20,y=200)\n",
    "e3 = Entry(window)\n",
    "e3.place(x=20,y=230)\n",
    "\n",
    "label10 = Label(window,text=\"Ayam Spicy\",font=\"calibri 18\")\n",
    "label10.place(x=280,y=200)\n",
    "e4 = Entry(window)\n",
    "e4.place(x=280,y=230)\n",
    "\n",
    "b2 = Button(window,text='Bayar',width=20,command=hitung)\n",
    "b2.place(x=130,y=300)\n",
    "\n",
    "\n",
    "\n",
    "window.mainloop()"
   ]
  },
  {
   "cell_type": "code",
   "execution_count": null,
   "metadata": {},
   "outputs": [],
   "source": []
  }
 ],
 "metadata": {
  "kernelspec": {
   "display_name": "Python 3",
   "language": "python",
   "name": "python3"
  },
  "language_info": {
   "codemirror_mode": {
    "name": "ipython",
    "version": 3
   },
   "file_extension": ".py",
   "mimetype": "text/x-python",
   "name": "python",
   "nbconvert_exporter": "python",
   "pygments_lexer": "ipython3",
   "version": "3.8.3"
  }
 },
 "nbformat": 4,
 "nbformat_minor": 4
}
